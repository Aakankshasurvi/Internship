{
 "cells": [
  {
   "cell_type": "code",
   "execution_count": 9,
   "id": "11c6705c",
   "metadata": {},
   "outputs": [
    {
     "data": {
      "text/plain": [
       "'Python:Exercises::PHP:exercises:'"
      ]
     },
     "execution_count": 9,
     "metadata": {},
     "output_type": "execute_result"
    }
   ],
   "source": [
    "import re\n",
    "text='Python Exercises, PHP exercises.'\n",
    "x=re.sub('[ ,.]',':',text)\n",
    "x"
   ]
  },
  {
   "cell_type": "code",
   "execution_count": 251,
   "id": "c339a69e",
   "metadata": {},
   "outputs": [
    {
     "name": "stdout",
     "output_type": "stream",
     "text": [
      "         SUMMARY\n",
      "0    hello world\n",
      "1           test\n",
      "2  four five six\n"
     ]
    }
   ],
   "source": [
    "import pandas as pd\n",
    "import re\n",
    "x = {'SUMMARY': ['hello, world!', 'XXXXX test', '123four, five:; six...']}\n",
    "df = pd.DataFrame(data)\n",
    "df['SUMMARY'] = df['SUMMARY'].str.replace(r'[^a-z\\s]+', '', regex=True)\n",
    "print(df)"
   ]
  },
  {
   "cell_type": "code",
   "execution_count": 131,
   "id": "1b3d8986",
   "metadata": {},
   "outputs": [
    {
     "name": "stdout",
     "output_type": "stream",
     "text": [
      "         SUMMARY\n",
      "0    hello world\n",
      "1           test\n",
      "2  four five six\n"
     ]
    }
   ],
   "source": [
    "import pandas as pd\n",
    "import re\n",
    "x = {'SUMMARY': ['hello, world!', 'XXXXX test', '123four, five:; six...']}\n",
    "df = pd.DataFrame(data)\n",
    "df['SUMMARY'] = df['SUMMARY'].str.replace(r'[^a-z\\s]', '', regex=True)\n",
    "print(df)"
   ]
  },
  {
   "cell_type": "code",
   "execution_count": 76,
   "id": "4611b5d5",
   "metadata": {},
   "outputs": [
    {
     "name": "stdout",
     "output_type": "stream",
     "text": [
      "['Happiness', 'attitude', 'either', 'make', 'ourselves', 'miserable', 'happy', 'strong', 'amount', 'work', 'same']\n"
     ]
    }
   ],
   "source": [
    "import re\n",
    "\n",
    "def find_words(text):    \n",
    "    pattern = re.compile(r'\\w{4,}')\n",
    "    matches = pattern.findall(text)\n",
    "    return matches\n",
    "text = \"Happiness is an attitude. We either make ourselves miserable, or happy and strong. The amount of work is the same.\"\n",
    "result = find_words(text)\n",
    "print(result)"
   ]
  },
  {
   "cell_type": "code",
   "execution_count": 40,
   "id": "99301d25",
   "metadata": {},
   "outputs": [
    {
     "name": "stdout",
     "output_type": "stream",
     "text": [
      "Happiness\n",
      "attitude\n",
      "either\n",
      "make\n",
      "ourselves\n",
      "miserable\n",
      "happy\n",
      "strong\n",
      "amount\n",
      "work\n",
      "same\n"
     ]
    }
   ],
   "source": [
    "import re\n",
    "\n",
    "text = \"Happiness is an attitude. We either make ourselves miserable, or happy and strong. The amount of work is the same.\"\n",
    "pattern = re.compile(r'\\w{4,}')\n",
    "matches = pattern.finditer(text)\n",
    "for match in matches:\n",
    "    print(match.group())"
   ]
  },
  {
   "cell_type": "code",
   "execution_count": 134,
   "id": "84933b60",
   "metadata": {},
   "outputs": [
    {
     "name": "stdout",
     "output_type": "stream",
     "text": [
      "['make', 'happy', 'and', 'The', 'work', 'the', 'same']\n"
     ]
    }
   ],
   "source": [
    "import re\n",
    "\n",
    "def find_words(text):    \n",
    "    pattern = re.compile(r'\\b\\w{3,5}\\b')\n",
    "    matches = pattern.findall(text)\n",
    "    return matches\n",
    "text = \"Happiness is an attitude. We either make ourselves miserable, or happy and strong. The amount of work is the same.\"\n",
    "result = find_words(text)\n",
    "print(result)"
   ]
  },
  {
   "cell_type": "code",
   "execution_count": 74,
   "id": "25fdb48c",
   "metadata": {},
   "outputs": [
    {
     "name": "stdout",
     "output_type": "stream",
     "text": [
      "make\n",
      "happy\n",
      "and\n",
      "The\n",
      "work\n",
      "the\n",
      "same\n"
     ]
    }
   ],
   "source": [
    "import re\n",
    "text = \"Happiness is an attitude. We either make ourselves miserable, or happy and strong. The amount of work is the same.\"\n",
    "pattern = re.compile(r'\\b\\w{3,5}\\b')\n",
    "matches = pattern.finditer(text)\n",
    "for match in matches:\n",
    "    print(match.group())"
   ]
  },
  {
   "cell_type": "code",
   "execution_count": 136,
   "id": "134f559a",
   "metadata": {},
   "outputs": [
    {
     "name": "stdout",
     "output_type": "stream",
     "text": [
      "example.com\n",
      "hr@fliprobo.com\n",
      "github.com\n",
      "HelloData Science World\n",
      "DataScientist\n"
     ]
    }
   ],
   "source": [
    "import re\n",
    "\n",
    "def remove_parentheses(strings):\n",
    "    pattern = re.compile(r'\\s*\\(([^)]*)\\)')  \n",
    "    \n",
    "    for i in range(len(strings)):\n",
    "        strings[i] = pattern.sub(r'\\1', strings[i])  \n",
    "    \n",
    "    return strings\n",
    "\n",
    "sample_text = [\"example (.com)\", \"hr@fliprobo (.com)\", \"github (.com)\", \"Hello (Data Science World)\", \"Data (Scientist)\"]\n",
    "\n",
    "output = remove_parentheses(sample_text)\n",
    "\n",
    "for text in output:\n",
    "    print(text)"
   ]
  },
  {
   "cell_type": "code",
   "execution_count": 80,
   "id": "20c03897",
   "metadata": {},
   "outputs": [
    {
     "name": "stdout",
     "output_type": "stream",
     "text": [
      "example\n",
      "hr@fliprobo\n",
      "github\n",
      "Hello\n",
      "Data\n"
     ]
    }
   ],
   "source": [
    "import re\n",
    "\n",
    "def remove_parentheses(strings):\n",
    "    pattern = re.compile(r'\\s*\\([^)]*\\)')\n",
    "    \n",
    "    cleaned_strings = [pattern.sub('', s) for s in strings]\n",
    "    \n",
    "    return cleaned_strings\n",
    "\n",
    "sample_text = [\"example (.com)\", \"hr@fliprobo (.com)\", \"github (.com)\", \"Hello (Data Science World)\", \"Data (Scientist)\"]\n",
    "cleaned_text = remove_parentheses(sample_text)\n",
    "for text in cleaned_text:\n",
    "    print(text)"
   ]
  },
  {
   "cell_type": "code",
   "execution_count": 245,
   "id": "799b3f2c",
   "metadata": {},
   "outputs": [
    {
     "name": "stdout",
     "output_type": "stream",
     "text": [
      "RegularExpression 1IsAn 2ImportantTopic 3InPython\n"
     ]
    }
   ],
   "source": [
    "import re\n",
    "\n",
    "def insert_spaces(text):\n",
    "    result = re.sub(r'((\\d)[A-Za-z])', r' \\1', text)\n",
    "    return result\n",
    "sample_text = \"RegularExpression1IsAn2ImportantTopic3InPython\"\n",
    "output = insert_spaces(sample_text)\n",
    "print(output)"
   ]
  },
  {
   "cell_type": "code",
   "execution_count": 246,
   "id": "381ba5d6",
   "metadata": {},
   "outputs": [
    {
     "name": "stdout",
     "output_type": "stream",
     "text": [
      "['Importance', 'Of', 'Regular', 'Expressions', 'In', 'Python']\n"
     ]
    }
   ],
   "source": [
    "import re\n",
    "\n",
    "text = \"ImportanceOfRegularExpressionsInPython\"\n",
    "\n",
    "result = re.findall(r'[A-Z][a-z]*', text)\n",
    "\n",
    "print(result)"
   ]
  },
  {
   "cell_type": "code",
   "execution_count": 118,
   "id": "d8f04ae8",
   "metadata": {},
   "outputs": [
    {
     "name": "stdout",
     "output_type": "stream",
     "text": [
      "         Country                           Region  Happiness Rank  \\\n",
      "0    Switzerland                   Western Europe               1   \n",
      "1        Iceland                   Western Europe               2   \n",
      "2        Denmark                   Western Europe               3   \n",
      "3         Norway                   Western Europe               4   \n",
      "4         Canada                    North America               5   \n",
      "..           ...                              ...             ...   \n",
      "153       Rwanda               Sub-Saharan Africa             154   \n",
      "154        Benin               Sub-Saharan Africa             155   \n",
      "155        Syria  Middle East and Northern Africa             156   \n",
      "156      Burundi               Sub-Saharan Africa             157   \n",
      "157         Togo               Sub-Saharan Africa             158   \n",
      "\n",
      "     Happiness Score  Standard Error  Economy (GDP per Capita)   Family  \\\n",
      "0              7.587         0.03411                   1.39651  1.34951   \n",
      "1              7.561         0.04884                   1.30232  1.40223   \n",
      "2              7.527         0.03328                   1.32548  1.36058   \n",
      "3              7.522         0.03880                   1.45900  1.33095   \n",
      "4              7.427         0.03553                   1.32629  1.32261   \n",
      "..               ...             ...                       ...      ...   \n",
      "153            3.465         0.03464                   0.22208  0.77370   \n",
      "154            3.340         0.03656                   0.28665  0.35386   \n",
      "155            3.006         0.05015                   0.66320  0.47489   \n",
      "156            2.905         0.08658                   0.01530  0.41587   \n",
      "157            2.839         0.06727                   0.20868  0.13995   \n",
      "\n",
      "     Health (Life Expectancy)  Freedom  Trust (Government Corruption)  \\\n",
      "0                     0.94143  0.66557                        0.41978   \n",
      "1                     0.94784  0.62877                        0.14145   \n",
      "2                     0.87464  0.64938                        0.48357   \n",
      "3                     0.88521  0.66973                        0.36503   \n",
      "4                     0.90563  0.63297                        0.32957   \n",
      "..                        ...      ...                            ...   \n",
      "153                   0.42864  0.59201                        0.55191   \n",
      "154                   0.31910  0.48450                        0.08010   \n",
      "155                   0.72193  0.15684                        0.18906   \n",
      "156                   0.22396  0.11850                        0.10062   \n",
      "157                   0.28443  0.36453                        0.10731   \n",
      "\n",
      "     Generosity  Dystopia Residual first_five_letters  \n",
      "0       0.29678            2.51738              Switz  \n",
      "1       0.43630            2.70201              Icela  \n",
      "2       0.34139            2.49204              Denma  \n",
      "3       0.34699            2.46531              Norwa  \n",
      "4       0.45811            2.45176              Canad  \n",
      "..          ...                ...                ...  \n",
      "153     0.22628            0.67042              Rwand  \n",
      "154     0.18260            1.63328              Benin  \n",
      "155     0.47179            0.32858              Syria  \n",
      "156     0.19727            1.83302              Burun  \n",
      "157     0.16681            1.56726               Togo  \n",
      "\n",
      "[158 rows x 13 columns]\n"
     ]
    }
   ],
   "source": [
    "import pandas as pd\n",
    "x=pd.read_csv('https://raw.githubusercontent.com/dsrscientist/DSData/master/happiness_score_dataset.csv')\n",
    "df['first_five_letters'] = df['Country'].str[:5]\n",
    "print(df)"
   ]
  },
  {
   "cell_type": "code",
   "execution_count": 148,
   "id": "cedef48e",
   "metadata": {},
   "outputs": [
    {
     "name": "stdout",
     "output_type": "stream",
     "text": [
      "Hello123\n",
      "world\n",
      "Hello_World\n"
     ]
    }
   ],
   "source": [
    "def match_string(input_string):\n",
    "    return all(char.isalnum() or char == '_' for char in input_string)\n",
    "test_strings = [\"Hello123\", \"world\", \"123_,abc\", \"abc-123\", \"Hello_World\"]\n",
    "for string in test_strings:\n",
    "    if match_string(string):\n",
    "        print(string)"
   ]
  },
  {
   "cell_type": "code",
   "execution_count": 154,
   "id": "5c6b8924",
   "metadata": {},
   "outputs": [
    {
     "name": "stdout",
     "output_type": "stream",
     "text": [
      "Enter a string: 1erty\n",
      "Enter the number the string should start with: 1\n",
      "The string '1erty' starts with the number 1.\n"
     ]
    }
   ],
   "source": [
    "def starts_with_number(string, number):\n",
    "    \n",
    "    return string.startswith(str(number))\n",
    "\n",
    "input_string = input(\"Enter a string: \")\n",
    "start_number = input(\"Enter the number the string should start with: \")\n",
    "\n",
    "if starts_with_number(input_string, start_number):\n",
    "    print(f\"The string '{input_string}' starts with the number {start_number}.\")\n",
    "else:\n",
    "    print(f\"The string '{input_string}' does not start with the number {start_number}.\")"
   ]
  },
  {
   "cell_type": "code",
   "execution_count": 193,
   "id": "501a893f",
   "metadata": {},
   "outputs": [
    {
     "name": "stdout",
     "output_type": "stream",
     "text": [
      "192.168.001.001\n",
      "192.168.1.1\n"
     ]
    }
   ],
   "source": [
    "import re\n",
    "def remove_leading_zeros(ip_address):\n",
    "    pattern = r'\\b0+(\\d)\\b'\n",
    "    x = re.sub(pattern, r'\\1', ip_address)\n",
    "    return x\n",
    "ip_address = \"192.168.001.001\"\n",
    "x = remove_leading_zeros(ip_address)\n",
    "print(ip_address)\n",
    "print(x)"
   ]
  },
  {
   "cell_type": "code",
   "execution_count": 199,
   "id": "33c1dbc7",
   "metadata": {},
   "outputs": [
    {
     "name": "stdout",
     "output_type": "stream",
     "text": [
      "August 15th 1947\n"
     ]
    }
   ],
   "source": [
    "text = 'On August 15th 1947 that India was declared independent from British colonialism, and the reins of control were handed over to the leaders of the Country'\n",
    "x = re.compile(r'[A-Za-z]+\\s\\w+\\s\\d{4}')\n",
    "matches = x.finditer(text)\n",
    "for match in matches:\n",
    "    print(match.group())"
   ]
  },
  {
   "cell_type": "code",
   "execution_count": 209,
   "id": "507e28ce",
   "metadata": {},
   "outputs": [
    {
     "name": "stdout",
     "output_type": "stream",
     "text": [
      "['fox', 'dog']\n"
     ]
    }
   ],
   "source": [
    "def find_words(words):\n",
    "    found_words = []\n",
    "    for word in words:\n",
    "        if word in text:\n",
    "            found_words.append(word)\n",
    "    if found_words:\n",
    "        return found_words\n",
    "    else:\n",
    "        print('not found')\n",
    "\n",
    "text = 'The quick brown fox jumps over the lazy dog.'\n",
    "result = find_words(['fox', 'dog','horse']) \n",
    "if result:\n",
    "    print(result)\n"
   ]
  },
  {
   "cell_type": "code",
   "execution_count": 210,
   "id": "1117751f",
   "metadata": {},
   "outputs": [
    {
     "name": "stdout",
     "output_type": "stream",
     "text": [
      "horse not found\n"
     ]
    }
   ],
   "source": [
    "def find_word(word):\n",
    "    if word in text:\n",
    "        return word + \" found!\"\n",
    "    else:\n",
    "        return word + \" not found\"\n",
    "text = 'The quick brown, fox jumps over the lazy dog.'\n",
    "result = find_word('horse')\n",
    "print(result)"
   ]
  },
  {
   "cell_type": "code",
   "execution_count": 211,
   "id": "7c534fe6",
   "metadata": {},
   "outputs": [
    {
     "name": "stdout",
     "output_type": "stream",
     "text": [
      "Occurrences of 'exercises' in 'Python exercises, PHP exercises, C# exercises':\n",
      "Found at index: 7\n",
      "Found at index: 22\n",
      "Found at index: 36\n"
     ]
    }
   ],
   "source": [
    "import re\n",
    "\n",
    "text = 'Python exercises, PHP exercises, C# exercises'\n",
    "pattern = 'exercises'\n",
    "\n",
    "print(\"Occurrences of '{}' in '{}':\".format(pattern, text))\n",
    "pattern_compiled = re.compile(pattern)\n",
    "\n",
    "for match in pattern_compiled.finditer(text):\n",
    "    print('Found at index:', match.start())"
   ]
  },
  {
   "cell_type": "code",
   "execution_count": 247,
   "id": "1139e86e",
   "metadata": {},
   "outputs": [
    {
     "name": "stdout",
     "output_type": "stream",
     "text": [
      "01.12\n",
      "145.8\n",
      "3.01\n",
      "27.25\n",
      "0.25\n"
     ]
    }
   ],
   "source": [
    "text = \"01.12 0132.123 2.31875 145.8 3.01 27.25 0.25\"\n",
    "pattern = re.compile(r'\\b\\d+\\.\\d{1,2}\\b')\n",
    "matches=pattern.finditer(text)\n",
    "for match in matches:\n",
    "    print(match.group())"
   ]
  },
  {
   "cell_type": "code",
   "execution_count": 250,
   "id": "c7955136",
   "metadata": {},
   "outputs": [
    {
     "name": "stdout",
     "output_type": "stream",
     "text": [
      "Maximum value: 950\n"
     ]
    }
   ],
   "source": [
    "import re\n",
    "def max_val(text):\n",
    "    numbers = re.findall(r'\\b\\d+\\b', text)\n",
    "    return max(map(int, numbers), default=None)\n",
    "sample_text = 'My marks in each semester are: 947, 896, 926, 524, 734, 950, 642'\n",
    "max_value = max_val(sample_text)\n",
    "print(\"Maximum value:\", max_value)"
   ]
  },
  {
   "cell_type": "code",
   "execution_count": 262,
   "id": "9e22f908",
   "metadata": {},
   "outputs": [
    {
     "name": "stdout",
     "output_type": "stream",
     "text": [
      " Regular Expression Is An Important Topic In Python\n"
     ]
    }
   ],
   "source": [
    "import re\n",
    "\n",
    "def insert_spaces(text):\n",
    "    result = re.sub(r'([A-Z])', r' \\1', text)\n",
    "    return result\n",
    "sample_text = \"RegularExpressionIsAnImportantTopicInPython\"\n",
    "output = insert_spaces(sample_text)\n",
    "print(output)"
   ]
  },
  {
   "cell_type": "code",
   "execution_count": 265,
   "id": "68282e6c",
   "metadata": {},
   "outputs": [
    {
     "name": "stdout",
     "output_type": "stream",
     "text": [
      "This\n",
      "Test\n",
      "Find\n",
      "One\n",
      "This\n",
      "Another\n",
      "Example\n"
     ]
    }
   ],
   "source": [
    "text = \"This is a Test to Find sequences of One upper case letter followed by lower case letters like This, Another, and Example.\"\n",
    "pattern = re.compile(r'\\b[A-Z][a-z]+\\b')\n",
    "matches = pattern.finditer(text)\n",
    "for match in matches:\n",
    "    print(match.group())"
   ]
  },
  {
   "cell_type": "code",
   "execution_count": 266,
   "id": "58884ed6",
   "metadata": {},
   "outputs": [
    {
     "name": "stdout",
     "output_type": "stream",
     "text": [
      "['This', 'Test', 'Find', 'One', 'This', 'Another', 'Example']\n"
     ]
    }
   ],
   "source": [
    "import re\n",
    "def find_seq(text):\n",
    "    pattern = re.compile(r'\\b[A-Z][a-z]+\\b')\n",
    "    matches = pattern.findall(text)\n",
    "    return matches\n",
    "text = \"This is a Test to Find sequences of One upper case letter followed by lower case letters like This, Another, and Example.\"\n",
    "result = find_seq(text)\n",
    "print(result)"
   ]
  },
  {
   "cell_type": "code",
   "execution_count": 269,
   "id": "b84112f5",
   "metadata": {},
   "outputs": [
    {
     "name": "stdout",
     "output_type": "stream",
     "text": [
      "Hello world.\n"
     ]
    }
   ],
   "source": [
    "import re\n",
    "\n",
    "def rem_con_dup(text):\n",
    "    return re.sub(r'\\b(\\w+)(\\s+\\1\\b)+', r'\\1', text, flags=re.IGNORECASE)\n",
    "text = \"Hello hello world world.\"\n",
    "x = rem_con_dup(text)\n",
    "print(x)"
   ]
  },
  {
   "cell_type": "code",
   "execution_count": 14,
   "id": "1aa3652f",
   "metadata": {},
   "outputs": [
    {
     "name": "stdout",
     "output_type": "stream",
     "text": [
      "12-11-1992\n",
      "15-12-1999\n"
     ]
    }
   ],
   "source": [
    "text = 'Ron was born on 12-11-1992 and he was admitted to school 15-12-1999.'\n",
    "x = re.compile(r'\\b\\d{2}-\\d{2}-\\d{4}\\b')\n",
    "matches = x.finditer(text)\n",
    "for match in matches:\n",
    "    print(match.group())"
   ]
  },
  {
   "cell_type": "code",
   "execution_count": 16,
   "id": "31b1fb08",
   "metadata": {},
   "outputs": [
    {
     "name": "stdout",
     "output_type": "stream",
     "text": [
      " following example creates  ArrayList  a capacity   elements. 4 elements   added   ArrayList   ArrayList  trimmed accordingly.\n"
     ]
    }
   ],
   "source": [
    "import re\n",
    "\n",
    "def rem_words_of_len_2_to_4(text):\n",
    "    pattern = re.compile(r'\\b\\w{2,4}\\b')\n",
    "    result = re.sub(pattern, '', text)\n",
    "    return result\n",
    "text = \"The following example creates an ArrayList with a capacity of 50 elements. 4 elements are then added to the ArrayList and the ArrayList is trimmed accordingly.\"\n",
    "x = rem_words_of_len_2_to_4(text)\n",
    "print(x)"
   ]
  },
  {
   "cell_type": "code",
   "execution_count": 15,
   "id": "abb9c222",
   "metadata": {},
   "outputs": [
    {
     "name": "stdout",
     "output_type": "stream",
     "text": [
      "The\n",
      "an\n",
      "with\n",
      "of\n",
      "50\n",
      "are\n",
      "then\n",
      "to\n",
      "the\n",
      "and\n",
      "the\n",
      "is\n"
     ]
    }
   ],
   "source": [
    "text = \"The following example creates an ArrayList with a capacity of 50 elements. 4 elements are then added to the ArrayList and the ArrayList is trimmed accordingly.\"\n",
    "x = re.compile(r'\\b\\w{2,4}\\b')\n",
    "matches = x.finditer(text)\n",
    "for match in matches:\n",
    "    print(match.group())"
   ]
  },
  {
   "cell_type": "code",
   "execution_count": null,
   "id": "b312cbd5",
   "metadata": {},
   "outputs": [],
   "source": []
  }
 ],
 "metadata": {
  "kernelspec": {
   "display_name": "Python 3 (ipykernel)",
   "language": "python",
   "name": "python3"
  },
  "language_info": {
   "codemirror_mode": {
    "name": "ipython",
    "version": 3
   },
   "file_extension": ".py",
   "mimetype": "text/x-python",
   "name": "python",
   "nbconvert_exporter": "python",
   "pygments_lexer": "ipython3",
   "version": "3.11.4"
  }
 },
 "nbformat": 4,
 "nbformat_minor": 5
}
